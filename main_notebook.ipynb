{
 "cells": [
  {
   "cell_type": "markdown",
   "metadata": {
    "pycharm": {
     "name": "#%% md\n"
    }
   },
   "source": [
    "![Back-Market-logo](./resources/images/Back_Market_logo.png)\n",
    "\n",
    "# Back Market Data Engineering technical assessment - Thibault Latrace\n",
    "\n",
    "This notebook focuses on the Back Market collect-prepare technical assessment, whose wording can be found in this [GitHub repository](https://github.com/BackMarket/jobs/tree/master/data_prepare_team). <br>\n",
    "It is only used for experimentation : the final transformer script will be written in a proper python file.\n",
    "\n",
    "My problem strategy is the following :\n",
    "\n",
    "- I. Exploration of the CSV file.\n",
    "- II. Transformation of the file from CSV to Parquet format.\n",
    "- III. Splitting of the Parquet file into the two expected files.\n",
    "- IV. Exploration of a scaling strategy.\n",
    "\n",
    "Let's dive into it !"
   ]
  },
  {
   "cell_type": "code",
   "execution_count": 91,
   "metadata": {
    "pycharm": {
     "name": "#%%\n"
    }
   },
   "outputs": [],
   "source": [
    "import pandas as pd\n",
    "import pyarrow as pa\n",
    "import pyarrow.parquet as pq\n",
    "\n",
    "from pathlib import Path\n",
    "from loguru import logger"
   ]
  },
  {
   "cell_type": "markdown",
   "metadata": {},
   "source": [
    "### I. Exploration of the product_catalog.csv file"
   ]
  },
  {
   "cell_type": "code",
   "execution_count": 81,
   "metadata": {
    "pycharm": {
     "name": "#%%\n"
    }
   },
   "outputs": [],
   "source": [
    "filepath = Path(\"./resources/product_catalog.csv\")\n",
    "df = pd.read_csv(filepath)"
   ]
  },
  {
   "cell_type": "code",
   "execution_count": 82,
   "metadata": {
    "pycharm": {
     "name": "#%%\n"
    }
   },
   "outputs": [
    {
     "name": "stdout",
     "output_type": "stream",
     "text": [
      "Number of rows : 1000\n",
      "Number of columns : 7\n",
      "\n"
     ]
    },
    {
     "data": {
      "text/html": [
       "<div>\n",
       "<style scoped>\n",
       "    .dataframe tbody tr th:only-of-type {\n",
       "        vertical-align: middle;\n",
       "    }\n",
       "\n",
       "    .dataframe tbody tr th {\n",
       "        vertical-align: top;\n",
       "    }\n",
       "\n",
       "    .dataframe thead th {\n",
       "        text-align: right;\n",
       "    }\n",
       "</style>\n",
       "<table border=\"1\" class=\"dataframe\">\n",
       "  <thead>\n",
       "    <tr style=\"text-align: right;\">\n",
       "      <th></th>\n",
       "      <th>brand</th>\n",
       "      <th>category_id</th>\n",
       "      <th>comment</th>\n",
       "      <th>currency</th>\n",
       "      <th>description</th>\n",
       "      <th>image</th>\n",
       "      <th>year_release</th>\n",
       "    </tr>\n",
       "  </thead>\n",
       "  <tbody>\n",
       "    <tr>\n",
       "      <th>count</th>\n",
       "      <td>1000</td>\n",
       "      <td>1000.000000</td>\n",
       "      <td>929</td>\n",
       "      <td>1000</td>\n",
       "      <td>837</td>\n",
       "      <td>740</td>\n",
       "      <td>1000.000000</td>\n",
       "    </tr>\n",
       "    <tr>\n",
       "      <th>unique</th>\n",
       "      <td>6</td>\n",
       "      <td>NaN</td>\n",
       "      <td>685</td>\n",
       "      <td>105</td>\n",
       "      <td>2</td>\n",
       "      <td>516</td>\n",
       "      <td>NaN</td>\n",
       "    </tr>\n",
       "    <tr>\n",
       "      <th>top</th>\n",
       "      <td>HP</td>\n",
       "      <td>NaN</td>\n",
       "      <td>Proin risus. Praesent lectus. Vestibulum quam ...</td>\n",
       "      <td>CNY</td>\n",
       "      <td>Female</td>\n",
       "      <td>data:image/png;base64,iVBORw0KGgoAAAANSUhEUgAA...</td>\n",
       "      <td>NaN</td>\n",
       "    </tr>\n",
       "    <tr>\n",
       "      <th>freq</th>\n",
       "      <td>175</td>\n",
       "      <td>NaN</td>\n",
       "      <td>5</td>\n",
       "      <td>196</td>\n",
       "      <td>421</td>\n",
       "      <td>4</td>\n",
       "      <td>NaN</td>\n",
       "    </tr>\n",
       "    <tr>\n",
       "      <th>mean</th>\n",
       "      <td>NaN</td>\n",
       "      <td>50.780000</td>\n",
       "      <td>NaN</td>\n",
       "      <td>NaN</td>\n",
       "      <td>NaN</td>\n",
       "      <td>NaN</td>\n",
       "      <td>1999.873000</td>\n",
       "    </tr>\n",
       "    <tr>\n",
       "      <th>std</th>\n",
       "      <td>NaN</td>\n",
       "      <td>28.695383</td>\n",
       "      <td>NaN</td>\n",
       "      <td>NaN</td>\n",
       "      <td>NaN</td>\n",
       "      <td>NaN</td>\n",
       "      <td>9.599011</td>\n",
       "    </tr>\n",
       "    <tr>\n",
       "      <th>min</th>\n",
       "      <td>NaN</td>\n",
       "      <td>1.000000</td>\n",
       "      <td>NaN</td>\n",
       "      <td>NaN</td>\n",
       "      <td>NaN</td>\n",
       "      <td>NaN</td>\n",
       "      <td>1955.000000</td>\n",
       "    </tr>\n",
       "    <tr>\n",
       "      <th>25%</th>\n",
       "      <td>NaN</td>\n",
       "      <td>26.000000</td>\n",
       "      <td>NaN</td>\n",
       "      <td>NaN</td>\n",
       "      <td>NaN</td>\n",
       "      <td>NaN</td>\n",
       "      <td>1994.000000</td>\n",
       "    </tr>\n",
       "    <tr>\n",
       "      <th>50%</th>\n",
       "      <td>NaN</td>\n",
       "      <td>50.000000</td>\n",
       "      <td>NaN</td>\n",
       "      <td>NaN</td>\n",
       "      <td>NaN</td>\n",
       "      <td>NaN</td>\n",
       "      <td>2001.000000</td>\n",
       "    </tr>\n",
       "    <tr>\n",
       "      <th>75%</th>\n",
       "      <td>NaN</td>\n",
       "      <td>76.000000</td>\n",
       "      <td>NaN</td>\n",
       "      <td>NaN</td>\n",
       "      <td>NaN</td>\n",
       "      <td>NaN</td>\n",
       "      <td>2007.000000</td>\n",
       "    </tr>\n",
       "    <tr>\n",
       "      <th>max</th>\n",
       "      <td>NaN</td>\n",
       "      <td>100.000000</td>\n",
       "      <td>NaN</td>\n",
       "      <td>NaN</td>\n",
       "      <td>NaN</td>\n",
       "      <td>NaN</td>\n",
       "      <td>2013.000000</td>\n",
       "    </tr>\n",
       "  </tbody>\n",
       "</table>\n",
       "</div>"
      ],
      "text/plain": [
       "       brand  category_id                                            comment  \\\n",
       "count   1000  1000.000000                                                929   \n",
       "unique     6          NaN                                                685   \n",
       "top       HP          NaN  Proin risus. Praesent lectus. Vestibulum quam ...   \n",
       "freq     175          NaN                                                  5   \n",
       "mean     NaN    50.780000                                                NaN   \n",
       "std      NaN    28.695383                                                NaN   \n",
       "min      NaN     1.000000                                                NaN   \n",
       "25%      NaN    26.000000                                                NaN   \n",
       "50%      NaN    50.000000                                                NaN   \n",
       "75%      NaN    76.000000                                                NaN   \n",
       "max      NaN   100.000000                                                NaN   \n",
       "\n",
       "       currency description  \\\n",
       "count      1000         837   \n",
       "unique      105           2   \n",
       "top         CNY      Female   \n",
       "freq        196         421   \n",
       "mean        NaN         NaN   \n",
       "std         NaN         NaN   \n",
       "min         NaN         NaN   \n",
       "25%         NaN         NaN   \n",
       "50%         NaN         NaN   \n",
       "75%         NaN         NaN   \n",
       "max         NaN         NaN   \n",
       "\n",
       "                                                    image  year_release  \n",
       "count                                                 740   1000.000000  \n",
       "unique                                                516           NaN  \n",
       "top     data:image/png;base64,iVBORw0KGgoAAAANSUhEUgAA...           NaN  \n",
       "freq                                                    4           NaN  \n",
       "mean                                                  NaN   1999.873000  \n",
       "std                                                   NaN      9.599011  \n",
       "min                                                   NaN   1955.000000  \n",
       "25%                                                   NaN   1994.000000  \n",
       "50%                                                   NaN   2001.000000  \n",
       "75%                                                   NaN   2007.000000  \n",
       "max                                                   NaN   2013.000000  "
      ]
     },
     "execution_count": 82,
     "metadata": {},
     "output_type": "execute_result"
    }
   ],
   "source": [
    "print(f\"Number of rows : {df.shape[0]}\")\n",
    "print(f\"Number of columns : {df.shape[1]}\\n\")\n",
    "\n",
    "df.describe(include = \"all\")"
   ]
  },
  {
   "cell_type": "code",
   "execution_count": 83,
   "metadata": {
    "pycharm": {
     "name": "#%%\n"
    },
    "scrolled": false
   },
   "outputs": [
    {
     "data": {
      "text/html": [
       "<div>\n",
       "<style scoped>\n",
       "    .dataframe tbody tr th:only-of-type {\n",
       "        vertical-align: middle;\n",
       "    }\n",
       "\n",
       "    .dataframe tbody tr th {\n",
       "        vertical-align: top;\n",
       "    }\n",
       "\n",
       "    .dataframe thead th {\n",
       "        text-align: right;\n",
       "    }\n",
       "</style>\n",
       "<table border=\"1\" class=\"dataframe\">\n",
       "  <thead>\n",
       "    <tr style=\"text-align: right;\">\n",
       "      <th></th>\n",
       "      <th>brand</th>\n",
       "      <th>category_id</th>\n",
       "      <th>comment</th>\n",
       "      <th>currency</th>\n",
       "      <th>description</th>\n",
       "      <th>image</th>\n",
       "      <th>year_release</th>\n",
       "    </tr>\n",
       "  </thead>\n",
       "  <tbody>\n",
       "    <tr>\n",
       "      <th>0</th>\n",
       "      <td>Toshiba</td>\n",
       "      <td>71</td>\n",
       "      <td>NaN</td>\n",
       "      <td>NOK</td>\n",
       "      <td>Male</td>\n",
       "      <td>data:image/png;base64,iVBORw0KGgoAAAANSUhEUgAA...</td>\n",
       "      <td>1993</td>\n",
       "    </tr>\n",
       "    <tr>\n",
       "      <th>1</th>\n",
       "      <td>HP</td>\n",
       "      <td>99</td>\n",
       "      <td>Suspendisse accumsan tortor quis turpis.</td>\n",
       "      <td>PEN</td>\n",
       "      <td>Male</td>\n",
       "      <td>data:image/png;base64,iVBORw0KGgoAAAANSUhEUgAA...</td>\n",
       "      <td>1988</td>\n",
       "    </tr>\n",
       "    <tr>\n",
       "      <th>2</th>\n",
       "      <td>Acer</td>\n",
       "      <td>69</td>\n",
       "      <td>Donec dapibus. Duis at velit eu est congue ele...</td>\n",
       "      <td>IDR</td>\n",
       "      <td>Female</td>\n",
       "      <td>data:image/png;base64,iVBORw0KGgoAAAANSUhEUgAA...</td>\n",
       "      <td>2010</td>\n",
       "    </tr>\n",
       "    <tr>\n",
       "      <th>3</th>\n",
       "      <td>HP</td>\n",
       "      <td>62</td>\n",
       "      <td>NaN</td>\n",
       "      <td>CNY</td>\n",
       "      <td>Female</td>\n",
       "      <td>data:image/png;base64,iVBORw0KGgoAAAANSUhEUgAA...</td>\n",
       "      <td>2008</td>\n",
       "    </tr>\n",
       "    <tr>\n",
       "      <th>4</th>\n",
       "      <td>Dell</td>\n",
       "      <td>48</td>\n",
       "      <td>Vivamus in felis eu sapien cursus vestibulum. ...</td>\n",
       "      <td>CNY</td>\n",
       "      <td>Male</td>\n",
       "      <td>data:image/png;base64,iVBORw0KGgoAAAANSUhEUgAA...</td>\n",
       "      <td>2013</td>\n",
       "    </tr>\n",
       "    <tr>\n",
       "      <th>5</th>\n",
       "      <td>Dell</td>\n",
       "      <td>93</td>\n",
       "      <td>Aliquam quis turpis eget elit sodales sceleris...</td>\n",
       "      <td>IDR</td>\n",
       "      <td>Male</td>\n",
       "      <td>data:image/png;base64,iVBORw0KGgoAAAANSUhEUgAA...</td>\n",
       "      <td>2000</td>\n",
       "    </tr>\n",
       "    <tr>\n",
       "      <th>6</th>\n",
       "      <td>HP</td>\n",
       "      <td>87</td>\n",
       "      <td>Mauris lacinia sapien quis libero. Nullam sit ...</td>\n",
       "      <td>CNY</td>\n",
       "      <td>NaN</td>\n",
       "      <td>data:image/png;base64,iVBORw0KGgoAAAANSUhEUgAA...</td>\n",
       "      <td>1991</td>\n",
       "    </tr>\n",
       "    <tr>\n",
       "      <th>7</th>\n",
       "      <td>Acer</td>\n",
       "      <td>32</td>\n",
       "      <td>NaN</td>\n",
       "      <td>ARS</td>\n",
       "      <td>Male</td>\n",
       "      <td>data:image/png;base64,iVBORw0KGgoAAAANSUhEUgAA...</td>\n",
       "      <td>2007</td>\n",
       "    </tr>\n",
       "    <tr>\n",
       "      <th>8</th>\n",
       "      <td>Samsung</td>\n",
       "      <td>97</td>\n",
       "      <td>Nulla suscipit ligula in lacus. Curabitur at i...</td>\n",
       "      <td>AFN</td>\n",
       "      <td>Female</td>\n",
       "      <td>data:image/png;base64,iVBORw0KGgoAAAANSUhEUgAA...</td>\n",
       "      <td>2001</td>\n",
       "    </tr>\n",
       "    <tr>\n",
       "      <th>9</th>\n",
       "      <td>Lenovo</td>\n",
       "      <td>5</td>\n",
       "      <td>Donec posuere metus vitae ipsum. Aliquam non m...</td>\n",
       "      <td>ILS</td>\n",
       "      <td>Female</td>\n",
       "      <td>data:image/png;base64,iVBORw0KGgoAAAANSUhEUgAA...</td>\n",
       "      <td>1985</td>\n",
       "    </tr>\n",
       "  </tbody>\n",
       "</table>\n",
       "</div>"
      ],
      "text/plain": [
       "     brand  category_id                                            comment  \\\n",
       "0  Toshiba           71                                                NaN   \n",
       "1       HP           99           Suspendisse accumsan tortor quis turpis.   \n",
       "2     Acer           69  Donec dapibus. Duis at velit eu est congue ele...   \n",
       "3       HP           62                                                NaN   \n",
       "4     Dell           48  Vivamus in felis eu sapien cursus vestibulum. ...   \n",
       "5     Dell           93  Aliquam quis turpis eget elit sodales sceleris...   \n",
       "6       HP           87  Mauris lacinia sapien quis libero. Nullam sit ...   \n",
       "7     Acer           32                                                NaN   \n",
       "8  Samsung           97  Nulla suscipit ligula in lacus. Curabitur at i...   \n",
       "9   Lenovo            5  Donec posuere metus vitae ipsum. Aliquam non m...   \n",
       "\n",
       "  currency description                                              image  \\\n",
       "0      NOK        Male  data:image/png;base64,iVBORw0KGgoAAAANSUhEUgAA...   \n",
       "1      PEN        Male  data:image/png;base64,iVBORw0KGgoAAAANSUhEUgAA...   \n",
       "2      IDR      Female  data:image/png;base64,iVBORw0KGgoAAAANSUhEUgAA...   \n",
       "3      CNY      Female  data:image/png;base64,iVBORw0KGgoAAAANSUhEUgAA...   \n",
       "4      CNY        Male  data:image/png;base64,iVBORw0KGgoAAAANSUhEUgAA...   \n",
       "5      IDR        Male  data:image/png;base64,iVBORw0KGgoAAAANSUhEUgAA...   \n",
       "6      CNY         NaN  data:image/png;base64,iVBORw0KGgoAAAANSUhEUgAA...   \n",
       "7      ARS        Male  data:image/png;base64,iVBORw0KGgoAAAANSUhEUgAA...   \n",
       "8      AFN      Female  data:image/png;base64,iVBORw0KGgoAAAANSUhEUgAA...   \n",
       "9      ILS      Female  data:image/png;base64,iVBORw0KGgoAAAANSUhEUgAA...   \n",
       "\n",
       "   year_release  \n",
       "0          1993  \n",
       "1          1988  \n",
       "2          2010  \n",
       "3          2008  \n",
       "4          2013  \n",
       "5          2000  \n",
       "6          1991  \n",
       "7          2007  \n",
       "8          2001  \n",
       "9          1985  "
      ]
     },
     "execution_count": 83,
     "metadata": {},
     "output_type": "execute_result"
    }
   ],
   "source": [
    "df.head(10)"
   ]
  },
  {
   "cell_type": "code",
   "execution_count": 84,
   "metadata": {
    "scrolled": true
   },
   "outputs": [
    {
     "name": "stdout",
     "output_type": "stream",
     "text": [
      "Number of categories: 100\n",
      "Number of year releases: 50\n",
      "Brands name: ['Toshiba' 'HP' 'Acer' 'Dell' 'Samsung' 'Lenovo']\n"
     ]
    }
   ],
   "source": [
    "print(f\"Number of categories: {len(df['category_id'].unique())}\")\n",
    "print(f\"Number of year releases: {len(df['year_release'].unique())}\")\n",
    "print(f\"Brands name: {df['brand'].unique()}\")"
   ]
  },
  {
   "cell_type": "markdown",
   "metadata": {},
   "source": [
    "Let's check for duplicates :"
   ]
  },
  {
   "cell_type": "code",
   "execution_count": 85,
   "metadata": {
    "scrolled": true
   },
   "outputs": [
    {
     "data": {
      "text/html": [
       "<div>\n",
       "<style scoped>\n",
       "    .dataframe tbody tr th:only-of-type {\n",
       "        vertical-align: middle;\n",
       "    }\n",
       "\n",
       "    .dataframe tbody tr th {\n",
       "        vertical-align: top;\n",
       "    }\n",
       "\n",
       "    .dataframe thead th {\n",
       "        text-align: right;\n",
       "    }\n",
       "</style>\n",
       "<table border=\"1\" class=\"dataframe\">\n",
       "  <thead>\n",
       "    <tr style=\"text-align: right;\">\n",
       "      <th></th>\n",
       "      <th>brand</th>\n",
       "      <th>category_id</th>\n",
       "      <th>comment</th>\n",
       "      <th>currency</th>\n",
       "      <th>description</th>\n",
       "      <th>image</th>\n",
       "      <th>year_release</th>\n",
       "    </tr>\n",
       "  </thead>\n",
       "  <tbody>\n",
       "  </tbody>\n",
       "</table>\n",
       "</div>"
      ],
      "text/plain": [
       "Empty DataFrame\n",
       "Columns: [brand, category_id, comment, currency, description, image, year_release]\n",
       "Index: []"
      ]
     },
     "execution_count": 85,
     "metadata": {},
     "output_type": "execute_result"
    }
   ],
   "source": [
    "df[df.duplicated() == True]"
   ]
  },
  {
   "cell_type": "markdown",
   "metadata": {},
   "source": [
    "**A few interesting observations :**\n",
    "\n",
    "- around 75% of the products have an image (740 out of 1000) : we should expect the valid file to have 740 rows and the invalid file to have 260 rows\n",
    "\n",
    "- there are only 6 brands, which looks okay.\n",
    "\n",
    "- there are 105 different currencies, which looks like a lot. However, there are 164 official national currencies circulating around the world, so it doesn't sound impossible neither.\n",
    " \n",
    "- some images have duplicates : there are 740 images but only 516 are unique. It looks unusual for different products to have the same picture : it could be the sign of product duplicates. However, after checking the image links, they are leading to fake picture so we can considerate that several were used multiple times for the case study."
   ]
  },
  {
   "cell_type": "markdown",
   "metadata": {},
   "source": [
    "### II. Transformation of the file from CSV to Parquet format."
   ]
  },
  {
   "cell_type": "code",
   "execution_count": 90,
   "metadata": {},
   "outputs": [],
   "source": [
    "table = pa.Table.from_pandas(df)"
   ]
  },
  {
   "cell_type": "code",
   "execution_count": 105,
   "metadata": {},
   "outputs": [],
   "source": [
    "output_filepath = Path(\"./resources/product_catalog.parquet\")\n",
    "if not output_filepath.exists():\n",
    "    pq.write_table(table, output_filepath)\n",
    "else:\n",
    "    raise ValueError(f\"The file was not created because the following output filepath already exists : '{output_filepath}'\")"
   ]
  }
 ],
 "metadata": {
  "kernelspec": {
   "display_name": "back-market-case-study-lin",
   "language": "python",
   "name": "back-market-case-study-lin"
  },
  "language_info": {
   "codemirror_mode": {
    "name": "ipython",
    "version": 3
   },
   "file_extension": ".py",
   "mimetype": "text/x-python",
   "name": "python",
   "nbconvert_exporter": "python",
   "pygments_lexer": "ipython3",
   "version": "3.8.2"
  },
  "pycharm": {
   "stem_cell": {
    "cell_type": "raw",
    "metadata": {
     "collapsed": false
    },
    "source": [
     "# Back Market : Data Engineering technical assessment.\n",
     "\n",
     "\n",
     "\n"
    ]
   }
  }
 },
 "nbformat": 4,
 "nbformat_minor": 1
}