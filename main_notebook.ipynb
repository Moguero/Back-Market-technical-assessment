{
 "cells": [
  {
   "cell_type": "markdown",
   "metadata": {
    "pycharm": {
     "name": "#%% md\n"
    }
   },
   "source": [
    "![Back-Market-logo](./resources/images/Back_Market_logo.png)\n",
    "\n",
    "# Back Market Data Engineering technical assessment - Thibault Latrace\n",
    "\n",
    "This notebook focuses on the Back Market collect-prepare technical assessment, whose wording can be found in this [GitHub repository](https://github.com/BackMarket/jobs/tree/master/data_prepare_team). <br>\n",
    "It is only used for experimentation : the final transformer script will be written in a proper python file.\n",
    "\n",
    "My problem strategy is the following :\n",
    "\n",
    "- I. Exploration of the CSV file.\n",
    "- II. Transformation of the file from CSV to Parquet format.\n",
    "- III. Splitting of the Parquet file into the two expected files.\n",
    "- IV. Exploration of a scaling strategy.\n",
    "\n",
    "Let's dive into it !"
   ]
  }
 ],
 "metadata": {
  "kernelspec": {
   "display_name": "back-market-case-study-lin",
   "language": "python",
   "name": "back-market-case-study-lin"
  },
  "language_info": {
   "codemirror_mode": {
    "name": "ipython",
    "version": 3
   },
   "file_extension": ".py",
   "mimetype": "text/x-python",
   "name": "python",
   "nbconvert_exporter": "python",
   "pygments_lexer": "ipython3",
   "version": "3.8.12"
  },
  "pycharm": {
   "stem_cell": {
    "cell_type": "raw",
    "metadata": {
     "collapsed": false
    },
    "source": [
     "# Back Market : Data Engineering technical assessment.\n",
     "\n",
     "\n",
     "\n"
    ]
   }
  }
 },
 "nbformat": 4,
 "nbformat_minor": 1
}